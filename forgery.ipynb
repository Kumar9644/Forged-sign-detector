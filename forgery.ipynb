{
  "nbformat": 4,
  "nbformat_minor": 0,
  "metadata": {
    "colab": {
      "name": "forgery.ipynb",
      "provenance": []
    },
    "kernelspec": {
      "name": "python3",
      "display_name": "Python 3"
    },
    "language_info": {
      "name": "python"
    },
    "accelerator": "GPU"
  },
  "cells": [
    {
      "cell_type": "code",
      "metadata": {
        "colab": {
          "base_uri": "https://localhost:8080/"
        },
        "id": "zA9hy4pb2yE0",
        "outputId": "97e0bf8d-bdaf-4bac-c6ef-e9c6450feb92"
      },
      "source": [
        "from google.colab import drive\n",
        "drive.mount('/gdrive')"
      ],
      "execution_count": 1,
      "outputs": [
        {
          "output_type": "stream",
          "text": [
            "Mounted at /gdrive\n"
          ],
          "name": "stdout"
        }
      ]
    },
    {
      "cell_type": "code",
      "metadata": {
        "id": "Etdhv-Mv27pN"
      },
      "source": [
        "from tensorflow.keras.models import Sequential\n",
        "from tensorflow.keras.layers import Dense,Conv2D,MaxPool2D,Flatten\n",
        "from tensorflow.keras.preprocessing import image\n",
        "from tensorflow.keras.callbacks import ModelCheckpoint\n",
        "from tensorflow.keras.preprocessing.image import ImageDataGenerator\n",
        "from tensorflow.keras.applications.vgg16 import VGG16"
      ],
      "execution_count": 2,
      "outputs": []
    },
    {
      "cell_type": "code",
      "metadata": {
        "id": "6XrlMz4H-Q80"
      },
      "source": [
        "test_path='/gdrive/MyDrive/Test'\n",
        "train_path='/gdrive/MyDrive/Train'"
      ],
      "execution_count": 5,
      "outputs": []
    },
    {
      "cell_type": "code",
      "metadata": {
        "id": "5mq1v11gC1R2"
      },
      "source": [
        "image_gen=ImageDataGenerator(\n",
        "    width_shift_range=0.2,\n",
        "    height_shift_range=0.2,\n",
        "    rotation_range=20,\n",
        "    horizontal_flip=True,\n",
        "    fill_mode='nearest',\n",
        "    rescale=1/255\n",
        ")\n",
        "test=ImageDataGenerator(rescale=1/255)"
      ],
      "execution_count": 6,
      "outputs": []
    },
    {
      "cell_type": "code",
      "metadata": {
        "colab": {
          "base_uri": "https://localhost:8080/"
        },
        "id": "nKcpd6KODP09",
        "outputId": "8eeb9174-0937-46ea-861e-de994737e5a1"
      },
      "source": [
        "test_image_gen=image_gen.flow_from_directory(test_path,batch_size=5,color_mode='rgb',class_mode='binary',target_size=(224,224))\n",
        "train_image_gen=test.flow_from_directory(train_path,batch_size=5,class_mode='binary',color_mode='rgb',target_size=(224,224))"
      ],
      "execution_count": 7,
      "outputs": [
        {
          "output_type": "stream",
          "text": [
            "Found 400 images belonging to 2 classes.\n",
            "Found 1203 images belonging to 2 classes.\n"
          ],
          "name": "stdout"
        }
      ]
    },
    {
      "cell_type": "code",
      "metadata": {
        "colab": {
          "base_uri": "https://localhost:8080/"
        },
        "id": "b4gRDnkNvyuk",
        "outputId": "3c8fba0b-fbd6-4b8d-ca23-0f731bd67ae6"
      },
      "source": [
        "test_image_gen.class_indices"
      ],
      "execution_count": 11,
      "outputs": [
        {
          "output_type": "execute_result",
          "data": {
            "text/plain": [
              "{'Forge': 0, 'Real': 1}"
            ]
          },
          "metadata": {
            "tags": []
          },
          "execution_count": 11
        }
      ]
    },
    {
      "cell_type": "code",
      "metadata": {
        "id": "NfsBaLgHv1-e"
      },
      "source": [
        ""
      ],
      "execution_count": null,
      "outputs": []
    },
    {
      "cell_type": "code",
      "metadata": {
        "id": "giQtvC5JEAII",
        "colab": {
          "base_uri": "https://localhost:8080/"
        },
        "outputId": "ace3dedb-391a-4c10-8f21-a52e51fbfe80"
      },
      "source": [
        "model=Sequential([\n",
        "                  VGG16(include_top=False,weights='imagenet',input_shape=(224,224,3)),\n",
        "                  Flatten(),\n",
        "                  Dense(4096,activation='relu'),\n",
        "                  Dense(4096,activation='relu'),\n",
        "                  Dense(1,activation='sigmoid')\n",
        "\n",
        "])\n",
        "model.compile(loss='binary_crossentropy',optimizer='adam',metrics=['accuracy'])"
      ],
      "execution_count": 8,
      "outputs": [
        {
          "output_type": "stream",
          "text": [
            "Downloading data from https://storage.googleapis.com/tensorflow/keras-applications/vgg16/vgg16_weights_tf_dim_ordering_tf_kernels_notop.h5\n",
            "58892288/58889256 [==============================] - 0s 0us/step\n"
          ],
          "name": "stdout"
        }
      ]
    },
    {
      "cell_type": "code",
      "metadata": {
        "id": "xMmnlKAcEuHW"
      },
      "source": [
        "filepath=\"weights-improvement-{epoch:02d}-{val_accuracy:.2f}.h5\"\n",
        "checkpoint = ModelCheckpoint(filepath, monitor='val_accuracy', verbose=1, save_best_only=True, mode='max')\n",
        "callbacks_list = [checkpoint]"
      ],
      "execution_count": null,
      "outputs": []
    },
    {
      "cell_type": "code",
      "metadata": {
        "id": "44dYxNPsE2p9",
        "colab": {
          "base_uri": "https://localhost:8080/"
        },
        "outputId": "b6ecc865-1c36-41d7-c8a3-d76f3264d39a"
      },
      "source": [
        "model.fit(train_image_gen,validation_data=test_image_gen,epochs=30)"
      ],
      "execution_count": 9,
      "outputs": [
        {
          "output_type": "stream",
          "text": [
            "Epoch 1/30\n",
            "241/241 [==============================] - 538s 2s/step - loss: 11.8443 - accuracy: 0.4674 - val_loss: 0.6932 - val_accuracy: 0.5000\n",
            "Epoch 2/30\n",
            "241/241 [==============================] - 33s 137ms/step - loss: 0.6934 - accuracy: 0.4800 - val_loss: 0.6932 - val_accuracy: 0.5000\n",
            "Epoch 3/30\n",
            "241/241 [==============================] - 32s 134ms/step - loss: 0.6934 - accuracy: 0.4814 - val_loss: 0.6931 - val_accuracy: 0.5000\n",
            "Epoch 4/30\n",
            "241/241 [==============================] - 32s 134ms/step - loss: 0.6932 - accuracy: 0.4719 - val_loss: 0.6932 - val_accuracy: 0.5000\n",
            "Epoch 5/30\n",
            "241/241 [==============================] - 32s 134ms/step - loss: 0.6932 - accuracy: 0.5116 - val_loss: 0.6931 - val_accuracy: 0.5000\n",
            "Epoch 6/30\n",
            "241/241 [==============================] - 32s 134ms/step - loss: 0.6932 - accuracy: 0.5145 - val_loss: 0.6932 - val_accuracy: 0.5000\n",
            "Epoch 7/30\n",
            "241/241 [==============================] - 32s 134ms/step - loss: 0.6933 - accuracy: 0.5053 - val_loss: 0.6932 - val_accuracy: 0.5000\n",
            "Epoch 8/30\n",
            "241/241 [==============================] - 32s 134ms/step - loss: 0.6933 - accuracy: 0.4725 - val_loss: 0.6931 - val_accuracy: 0.5000\n",
            "Epoch 9/30\n",
            "241/241 [==============================] - 32s 134ms/step - loss: 0.6932 - accuracy: 0.5013 - val_loss: 0.6931 - val_accuracy: 0.5000\n",
            "Epoch 10/30\n",
            "241/241 [==============================] - 32s 134ms/step - loss: 0.6931 - accuracy: 0.4863 - val_loss: 0.6931 - val_accuracy: 0.5000\n",
            "Epoch 11/30\n",
            "241/241 [==============================] - 32s 133ms/step - loss: 0.6932 - accuracy: 0.4977 - val_loss: 0.6932 - val_accuracy: 0.5000\n",
            "Epoch 12/30\n",
            "241/241 [==============================] - 32s 133ms/step - loss: 0.6933 - accuracy: 0.4645 - val_loss: 0.6932 - val_accuracy: 0.5000\n",
            "Epoch 13/30\n",
            "241/241 [==============================] - 32s 134ms/step - loss: 0.6933 - accuracy: 0.4784 - val_loss: 0.6932 - val_accuracy: 0.5000\n",
            "Epoch 14/30\n",
            "241/241 [==============================] - 32s 133ms/step - loss: 0.6932 - accuracy: 0.5094 - val_loss: 0.6931 - val_accuracy: 0.5000\n",
            "Epoch 15/30\n",
            "241/241 [==============================] - 32s 134ms/step - loss: 0.6932 - accuracy: 0.5134 - val_loss: 0.6932 - val_accuracy: 0.5000\n",
            "Epoch 16/30\n",
            "241/241 [==============================] - 32s 134ms/step - loss: 0.6933 - accuracy: 0.4601 - val_loss: 0.6932 - val_accuracy: 0.5000\n",
            "Epoch 17/30\n",
            "241/241 [==============================] - 32s 133ms/step - loss: 0.6932 - accuracy: 0.5004 - val_loss: 0.6931 - val_accuracy: 0.5000\n",
            "Epoch 18/30\n",
            "241/241 [==============================] - 32s 133ms/step - loss: 0.6932 - accuracy: 0.4693 - val_loss: 0.6931 - val_accuracy: 0.5000\n",
            "Epoch 19/30\n",
            "241/241 [==============================] - 32s 134ms/step - loss: 0.6932 - accuracy: 0.5093 - val_loss: 0.6931 - val_accuracy: 0.5000\n",
            "Epoch 20/30\n",
            "241/241 [==============================] - 32s 134ms/step - loss: 0.6932 - accuracy: 0.4997 - val_loss: 0.6931 - val_accuracy: 0.5000\n",
            "Epoch 21/30\n",
            "241/241 [==============================] - 32s 134ms/step - loss: 0.6932 - accuracy: 0.5083 - val_loss: 0.6931 - val_accuracy: 0.5000\n",
            "Epoch 22/30\n",
            "241/241 [==============================] - 32s 133ms/step - loss: 0.6932 - accuracy: 0.4653 - val_loss: 0.6931 - val_accuracy: 0.5000\n",
            "Epoch 23/30\n",
            "241/241 [==============================] - 32s 134ms/step - loss: 0.6931 - accuracy: 0.5169 - val_loss: 0.6931 - val_accuracy: 0.5000\n",
            "Epoch 24/30\n",
            "241/241 [==============================] - 32s 134ms/step - loss: 0.6932 - accuracy: 0.4846 - val_loss: 0.6931 - val_accuracy: 0.5000\n",
            "Epoch 25/30\n",
            "241/241 [==============================] - 32s 134ms/step - loss: 0.6932 - accuracy: 0.4617 - val_loss: 0.6931 - val_accuracy: 0.5000\n",
            "Epoch 26/30\n",
            "241/241 [==============================] - 32s 134ms/step - loss: 0.6932 - accuracy: 0.5065 - val_loss: 0.6931 - val_accuracy: 0.5000\n",
            "Epoch 27/30\n",
            "241/241 [==============================] - 32s 133ms/step - loss: 0.6932 - accuracy: 0.5118 - val_loss: 0.6931 - val_accuracy: 0.5000\n",
            "Epoch 28/30\n",
            "241/241 [==============================] - 32s 133ms/step - loss: 0.6932 - accuracy: 0.4739 - val_loss: 0.6931 - val_accuracy: 0.5000\n",
            "Epoch 29/30\n",
            "241/241 [==============================] - 32s 133ms/step - loss: 0.6932 - accuracy: 0.5064 - val_loss: 0.6932 - val_accuracy: 0.5000\n",
            "Epoch 30/30\n",
            "241/241 [==============================] - 32s 133ms/step - loss: 0.6933 - accuracy: 0.4758 - val_loss: 0.6931 - val_accuracy: 0.5000\n"
          ],
          "name": "stdout"
        },
        {
          "output_type": "execute_result",
          "data": {
            "text/plain": [
              "<tensorflow.python.keras.callbacks.History at 0x7f7572117150>"
            ]
          },
          "metadata": {
            "tags": []
          },
          "execution_count": 9
        }
      ]
    },
    {
      "cell_type": "code",
      "metadata": {
        "colab": {
          "base_uri": "https://localhost:8080/"
        },
        "id": "guRMDxT0o1oe",
        "outputId": "1cd88968-a824-48ec-8df1-4d3be906a23d"
      },
      "source": [
        "import os\n",
        "path='/gdrive/MyDrive/pk1/questioned'\n",
        "for i in os.listdir(path):\n",
        "  new=path+'/'+i\n",
        "  img=image.load_img(new,target_size=(224,224))\n",
        "  ima=image.img_to_array(img).reshape(1,224,224,3)\n",
        "  if model.predict(ima)>0.5:\n",
        "    print('real')\n",
        "  else:\n",
        "    print('forged')"
      ],
      "execution_count": 20,
      "outputs": [
        {
          "output_type": "stream",
          "text": [
            "real\n",
            "real\n"
          ],
          "name": "stdout"
        }
      ]
    },
    {
      "cell_type": "code",
      "metadata": {
        "colab": {
          "base_uri": "https://localhost:8080/"
        },
        "id": "dMO5-GRBxFQt",
        "outputId": "039f8143-f1f9-4b56-ae86-a964d48dbbac"
      },
      "source": [
        "im=image.load_img('/gdrive/MyDrive/pk1/forged/pk1.png',target_size=(224,224))\n",
        "img=image.img_to_array(im).reshape(1,224,224,3)\n",
        "model.predict_classes(img)"
      ],
      "execution_count": 17,
      "outputs": [
        {
          "output_type": "stream",
          "text": [
            "/usr/local/lib/python3.7/dist-packages/tensorflow/python/keras/engine/sequential.py:450: UserWarning: `model.predict_classes()` is deprecated and will be removed after 2021-01-01. Please use instead:* `np.argmax(model.predict(x), axis=-1)`,   if your model does multi-class classification   (e.g. if it uses a `softmax` last-layer activation).* `(model.predict(x) > 0.5).astype(\"int32\")`,   if your model does binary classification   (e.g. if it uses a `sigmoid` last-layer activation).\n",
            "  warnings.warn('`model.predict_classes()` is deprecated and '\n"
          ],
          "name": "stderr"
        },
        {
          "output_type": "execute_result",
          "data": {
            "text/plain": [
              "array([[1]], dtype=int32)"
            ]
          },
          "metadata": {
            "tags": []
          },
          "execution_count": 17
        }
      ]
    },
    {
      "cell_type": "code",
      "metadata": {
        "id": "TYAwpKOQxsRD"
      },
      "source": [
        "from google.colab import files"
      ],
      "execution_count": 21,
      "outputs": []
    },
    {
      "cell_type": "code",
      "metadata": {
        "colab": {
          "base_uri": "https://localhost:8080/",
          "height": 34
        },
        "id": "oJ9oBcH6A-TG",
        "outputId": "fad3bf60-f006-4db1-ef8d-b89bfe7294bf"
      },
      "source": [
        "model.save('kumar.h5')\n",
        "files.download('kumar.h5')"
      ],
      "execution_count": 46,
      "outputs": [
        {
          "output_type": "display_data",
          "data": {
            "application/javascript": [
              "\n",
              "    async function download(id, filename, size) {\n",
              "      if (!google.colab.kernel.accessAllowed) {\n",
              "        return;\n",
              "      }\n",
              "      const div = document.createElement('div');\n",
              "      const label = document.createElement('label');\n",
              "      label.textContent = `Downloading \"${filename}\": `;\n",
              "      div.appendChild(label);\n",
              "      const progress = document.createElement('progress');\n",
              "      progress.max = size;\n",
              "      div.appendChild(progress);\n",
              "      document.body.appendChild(div);\n",
              "\n",
              "      const buffers = [];\n",
              "      let downloaded = 0;\n",
              "\n",
              "      const channel = await google.colab.kernel.comms.open(id);\n",
              "      // Send a message to notify the kernel that we're ready.\n",
              "      channel.send({})\n",
              "\n",
              "      for await (const message of channel.messages) {\n",
              "        // Send a message to notify the kernel that we're ready.\n",
              "        channel.send({})\n",
              "        if (message.buffers) {\n",
              "          for (const buffer of message.buffers) {\n",
              "            buffers.push(buffer);\n",
              "            downloaded += buffer.byteLength;\n",
              "            progress.value = downloaded;\n",
              "          }\n",
              "        }\n",
              "      }\n",
              "      const blob = new Blob(buffers, {type: 'application/binary'});\n",
              "      const a = document.createElement('a');\n",
              "      a.href = window.URL.createObjectURL(blob);\n",
              "      a.download = filename;\n",
              "      div.appendChild(a);\n",
              "      a.click();\n",
              "      div.remove();\n",
              "    }\n",
              "  "
            ],
            "text/plain": [
              "<IPython.core.display.Javascript object>"
            ]
          },
          "metadata": {
            "tags": []
          }
        },
        {
          "output_type": "display_data",
          "data": {
            "application/javascript": [
              "download(\"download_949d241c-8a2c-4564-8998-65a5c7b7aa9c\", \"kumar.h5\", 1611308912)"
            ],
            "text/plain": [
              "<IPython.core.display.Javascript object>"
            ]
          },
          "metadata": {
            "tags": []
          }
        }
      ]
    },
    {
      "cell_type": "code",
      "metadata": {
        "id": "IaFRiQRlcYQk"
      },
      "source": [
        ""
      ],
      "execution_count": null,
      "outputs": []
    },
    {
      "cell_type": "code",
      "metadata": {
        "id": "naaOErLFRNsX"
      },
      "source": [
        ""
      ],
      "execution_count": null,
      "outputs": []
    },
    {
      "cell_type": "code",
      "metadata": {
        "id": "2ZYK0-x1FUuC"
      },
      "source": [
        ""
      ],
      "execution_count": null,
      "outputs": []
    },
    {
      "cell_type": "code",
      "metadata": {
        "id": "diIvA-wvE_4D"
      },
      "source": [
        ""
      ],
      "execution_count": null,
      "outputs": []
    }
  ]
}